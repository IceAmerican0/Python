{
 "cells": [
  {
   "cell_type": "markdown",
   "id": "5d9ae5e8",
   "metadata": {},
   "source": [
    "# 몬테카를로 시뮬레이션\n",
    ": 자료가 없을 경우 난수를 통해 가설 증명\n",
    "    \n",
    "# 동전의 앞면과 뒷면이 나올 확률이 같다는 것을 증명"
   ]
  },
  {
   "cell_type": "code",
   "execution_count": 2,
   "id": "bd2f14c3",
   "metadata": {},
   "outputs": [
    {
     "data": {
      "text/plain": [
       "8"
      ]
     },
     "execution_count": 2,
     "metadata": {},
     "output_type": "execute_result"
    }
   ],
   "source": [
    "import random\n",
    "random.randint(1,10)"
   ]
  },
  {
   "cell_type": "code",
   "execution_count": 5,
   "id": "013079a3",
   "metadata": {},
   "outputs": [
    {
     "name": "stdout",
     "output_type": "stream",
     "text": [
      "앞면\n"
     ]
    }
   ],
   "source": [
    "x=random.randint(1,2)\n",
    "if x==1:\n",
    "    result=\"앞면\"\n",
    "else:\n",
    "    result=\"뒷면\"\n",
    "\n",
    "print(result)"
   ]
  },
  {
   "cell_type": "code",
   "execution_count": 7,
   "id": "e8db5606",
   "metadata": {},
   "outputs": [
    {
     "name": "stdout",
     "output_type": "stream",
     "text": [
      "     10번 시도시 동전의 앞면은      4번이고 동전의 뒷면은      6번 입니다.\n",
      "    100번 시도시 동전의 앞면은     54번이고 동전의 뒷면은     46번 입니다.\n",
      "   1000번 시도시 동전의 앞면은    494번이고 동전의 뒷면은    506번 입니다.\n",
      "  10000번 시도시 동전의 앞면은   5084번이고 동전의 뒷면은   4916번 입니다.\n",
      " 100000번 시도시 동전의 앞면은  50042번이고 동전의 뒷면은  49958번 입니다.\n",
      "1000000번 시도시 동전의 앞면은 500445번이고 동전의 뒷면은 499555번 입니다.\n"
     ]
    }
   ],
   "source": [
    "def coinF(n):\n",
    "    coinFront=coinRear=0\n",
    "    for i in range(1,n+1):\n",
    "        x=random.randint(1,2)\n",
    "        if x==1:\n",
    "            coinFront+=1\n",
    "        else:\n",
    "            coinRear+=1\n",
    "    print(\"%7d번 시도시 동전의 앞면은 %6d번이고 동전의 뒷면은 %6d번 입니다.\"%(n,coinFront,coinRear))\n",
    "\n",
    "coinF(10)\n",
    "coinF(100)\n",
    "coinF(1000)\n",
    "coinF(10000)\n",
    "coinF(100000)\n",
    "coinF(1000000)"
   ]
  },
  {
   "cell_type": "code",
   "execution_count": 11,
   "id": "9355c8ea",
   "metadata": {},
   "outputs": [
    {
     "name": "stdout",
     "output_type": "stream",
     "text": [
      "      10번 가위바위보를 하면 가위 :       5번 바위 :       2번 보 :       3번 냅니다.\n",
      "     100번 가위바위보를 하면 가위 :      38번 바위 :      27번 보 :      35번 냅니다.\n",
      "    1000번 가위바위보를 하면 가위 :     312번 바위 :     337번 보 :     351번 냅니다.\n",
      "   10000번 가위바위보를 하면 가위 :    3324번 바위 :    3389번 보 :    3287번 냅니다.\n",
      "  100000번 가위바위보를 하면 가위 :   33381번 바위 :   33449번 보 :   33170번 냅니다.\n",
      " 1000000번 가위바위보를 하면 가위 :  332792번 바위 :  333078번 보 :  334130번 냅니다.\n"
     ]
    }
   ],
   "source": [
    "def rock(n):\n",
    "    rock=scissors=paper=0\n",
    "    for i in range(1,n+1):\n",
    "        x=random.randint(1,3)\n",
    "        y=random.randint(1,3)\n",
    "        if x==1:\n",
    "            rock+=1\n",
    "        elif x==2:\n",
    "            scissors+=1\n",
    "        else:\n",
    "            paper+=1\n",
    "    print(\"%8d번 가위바위보를 하면 가위 : %7d번 바위 : %7d번 보 : %7d번 냅니다.\"%(n,scissors,rock,paper))\n",
    "    \n",
    "rock(10)\n",
    "rock(100)\n",
    "rock(1000)\n",
    "rock(10000)\n",
    "rock(100000)\n",
    "rock(1000000)"
   ]
  },
  {
   "cell_type": "code",
   "execution_count": null,
   "id": "0a7c8146",
   "metadata": {},
   "outputs": [],
   "source": []
  }
 ],
 "metadata": {
  "kernelspec": {
   "display_name": "Python 3",
   "language": "python",
   "name": "python3"
  },
  "language_info": {
   "codemirror_mode": {
    "name": "ipython",
    "version": 3
   },
   "file_extension": ".py",
   "mimetype": "text/x-python",
   "name": "python",
   "nbconvert_exporter": "python",
   "pygments_lexer": "ipython3",
   "version": "3.8.8"
  }
 },
 "nbformat": 4,
 "nbformat_minor": 5
}
