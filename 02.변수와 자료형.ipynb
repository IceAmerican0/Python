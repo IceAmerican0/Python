{
 "cells": [
  {
   "cell_type": "code",
   "execution_count": 2,
   "id": "c6e454cf",
   "metadata": {},
   "outputs": [
    {
     "data": {
      "text/plain": [
       "0"
      ]
     },
     "execution_count": 2,
     "metadata": {},
     "output_type": "execute_result"
    }
   ],
   "source": [
    "var01=123\n",
    "var01=-17\n",
    "var01=0\n",
    "\n",
    "var01"
   ]
  },
  {
   "cell_type": "code",
   "execution_count": 8,
   "id": "fec1c4a8",
   "metadata": {},
   "outputs": [
    {
     "name": "stdout",
     "output_type": "stream",
     "text": [
      "덧셈 :  7\n",
      "뺄셈 :  -1\n",
      "곱셈 :  12\n",
      "덧셈 :  0.75\n",
      "정수 나눗셈 몫 :  0\n",
      "정수 나눗셈 나머지 :  3\n",
      "제곱 :  9\n",
      "제곱 :  9\n"
     ]
    }
   ],
   "source": [
    "var01=3\n",
    "var02=4\n",
    "\n",
    "print('덧셈 : ',var01+var02)\n",
    "print('뺄셈 : ',var01-var02)\n",
    "print('곱셈 : ',var01*var02)\n",
    "print('덧셈 : ',var01/var02)\n",
    "print('정수 나눗셈 몫 : ',var01//var02)\n",
    "print('정수 나눗셈 나머지 : ',var01%var02)\n",
    "print('제곱 : ',var01**2)\n",
    "print('제곱 : ',pow(var01,2))"
   ]
  },
  {
   "cell_type": "code",
   "execution_count": 10,
   "id": "bbc1fb19",
   "metadata": {},
   "outputs": [],
   "source": [
    "import math"
   ]
  },
  {
   "cell_type": "code",
   "execution_count": 12,
   "id": "c3544346",
   "metadata": {},
   "outputs": [
    {
     "data": {
      "text/plain": [
       "9.0"
      ]
     },
     "execution_count": 12,
     "metadata": {},
     "output_type": "execute_result"
    }
   ],
   "source": [
    "math.pow(var01,2)"
   ]
  },
  {
   "cell_type": "code",
   "execution_count": 14,
   "id": "8161ed4f",
   "metadata": {},
   "outputs": [
    {
     "data": {
      "text/plain": [
       "1.7320508075688772"
      ]
     },
     "execution_count": 14,
     "metadata": {},
     "output_type": "execute_result"
    }
   ],
   "source": [
    "math.sqrt(var01)"
   ]
  },
  {
   "cell_type": "code",
   "execution_count": 17,
   "id": "d82a43d2",
   "metadata": {},
   "outputs": [
    {
     "data": {
      "text/plain": [
       "1.0"
      ]
     },
     "execution_count": 17,
     "metadata": {},
     "output_type": "execute_result"
    }
   ],
   "source": [
    "math.pow(math.sin(45),2)+math.pow(math.cos(45),2)"
   ]
  },
  {
   "cell_type": "markdown",
   "id": "d02514bf",
   "metadata": {},
   "source": [
    "# 난수발생"
   ]
  },
  {
   "cell_type": "code",
   "execution_count": 18,
   "id": "1a7b4e55",
   "metadata": {},
   "outputs": [],
   "source": [
    "import random"
   ]
  },
  {
   "cell_type": "code",
   "execution_count": 21,
   "id": "8181efd3",
   "metadata": {},
   "outputs": [
    {
     "data": {
      "text/plain": [
       "83"
      ]
     },
     "execution_count": 21,
     "metadata": {},
     "output_type": "execute_result"
    }
   ],
   "source": [
    "random.randint(1,100)"
   ]
  },
  {
   "cell_type": "code",
   "execution_count": 23,
   "id": "0e0fe3d5",
   "metadata": {},
   "outputs": [
    {
     "data": {
      "text/plain": [
       "[3, 1, 4]"
      ]
     },
     "execution_count": 23,
     "metadata": {},
     "output_type": "execute_result"
    }
   ],
   "source": [
    "rlist=[1,2,3,4,5]\n",
    "random.sample(rlist,3)"
   ]
  },
  {
   "cell_type": "code",
   "execution_count": 25,
   "id": "72dfcd22",
   "metadata": {
    "collapsed": true
   },
   "outputs": [
    {
     "name": "stdout",
     "output_type": "stream",
     "text": [
      "1\n",
      "2\n",
      "3\n",
      "4\n",
      "5\n",
      "6\n",
      "7\n",
      "8\n",
      "9\n",
      "10\n",
      "11\n",
      "12\n",
      "13\n",
      "14\n",
      "15\n",
      "16\n",
      "17\n",
      "18\n",
      "19\n",
      "20\n",
      "21\n",
      "22\n",
      "23\n",
      "24\n",
      "25\n",
      "26\n",
      "27\n",
      "28\n",
      "29\n",
      "30\n",
      "31\n",
      "32\n",
      "33\n",
      "34\n",
      "35\n",
      "36\n",
      "37\n",
      "38\n",
      "39\n",
      "40\n",
      "41\n",
      "42\n",
      "43\n",
      "44\n",
      "45\n",
      "46\n",
      "47\n",
      "48\n",
      "49\n",
      "50\n",
      "51\n",
      "52\n",
      "53\n",
      "54\n",
      "55\n",
      "56\n",
      "57\n",
      "58\n",
      "59\n",
      "60\n",
      "61\n",
      "62\n",
      "63\n",
      "64\n",
      "65\n",
      "66\n",
      "67\n",
      "68\n",
      "69\n",
      "70\n",
      "71\n",
      "72\n",
      "73\n",
      "74\n",
      "75\n",
      "76\n",
      "77\n",
      "78\n",
      "79\n",
      "80\n",
      "81\n",
      "82\n",
      "83\n",
      "84\n",
      "85\n",
      "86\n",
      "87\n",
      "88\n",
      "89\n",
      "90\n",
      "91\n",
      "92\n",
      "93\n",
      "94\n",
      "95\n",
      "96\n",
      "97\n",
      "98\n",
      "99\n"
     ]
    }
   ],
   "source": [
    "alist=range(1,100)\n",
    "for i in alist:\n",
    "    print(i)"
   ]
  },
  {
   "cell_type": "code",
   "execution_count": 28,
   "id": "80b7ef40",
   "metadata": {},
   "outputs": [
    {
     "data": {
      "text/plain": [
       "[8, 23, 5, 27, 17, 3, 32]"
      ]
     },
     "execution_count": 28,
     "metadata": {},
     "output_type": "execute_result"
    }
   ],
   "source": [
    "alist=range(1,46)\n",
    "random.sample(alist,7)"
   ]
  },
  {
   "cell_type": "code",
   "execution_count": 30,
   "id": "f7222a52",
   "metadata": {},
   "outputs": [
    {
     "name": "stdout",
     "output_type": "stream",
     "text": [
      "False\n",
      "True\n"
     ]
    }
   ],
   "source": [
    "num1=100\n",
    "num2=20\n",
    "\n",
    "print(num1==num2)\n",
    "print(num1!=num2)"
   ]
  },
  {
   "cell_type": "code",
   "execution_count": 36,
   "id": "ce0a6a79",
   "metadata": {},
   "outputs": [
    {
     "name": "stdout",
     "output_type": "stream",
     "text": [
      "\n",
      "    Hello World!\n",
      "    Good to meet you!\n",
      "\n"
     ]
    }
   ],
   "source": [
    "var01=\"\"\"\n",
    "    Hello World!\n",
    "    Good to meet you!\n",
    "\"\"\"\n",
    "print(var01)"
   ]
  },
  {
   "cell_type": "code",
   "execution_count": 38,
   "id": "bc04e27a",
   "metadata": {},
   "outputs": [
    {
     "name": "stdout",
     "output_type": "stream",
     "text": [
      "Python No jam\n"
     ]
    }
   ],
   "source": [
    "var01='Python'\n",
    "var02='No jam'\n",
    "print(var01,var02)"
   ]
  },
  {
   "cell_type": "code",
   "execution_count": 40,
   "id": "9a8be9b0",
   "metadata": {},
   "outputs": [
    {
     "name": "stdout",
     "output_type": "stream",
     "text": [
      "====================\n",
      "Python\n",
      "====================\n"
     ]
    }
   ],
   "source": [
    "print(\"=\" * 20)\n",
    "print('Python')\n",
    "print(\"=\"*20)"
   ]
  },
  {
   "cell_type": "code",
   "execution_count": 45,
   "id": "6e7c3fd4",
   "metadata": {},
   "outputs": [
    {
     "name": "stdout",
     "output_type": "stream",
     "text": [
      "a\n",
      "abc\n",
      "n\n",
      "fghijklmn\n",
      "abcde\n"
     ]
    }
   ],
   "source": [
    "str=\"abcdefghijklmn\"\n",
    "print(str[0])\n",
    "print(str[0:3])\n",
    "print(str[-1])\n",
    "print(str[5:])\n",
    "print(str[:5])"
   ]
  },
  {
   "cell_type": "code",
   "execution_count": 62,
   "id": "d7b19089",
   "metadata": {},
   "outputs": [
    {
     "name": "stdout",
     "output_type": "stream",
     "text": [
      "2021-12-31\n"
     ]
    }
   ],
   "source": [
    "str=\"20211231\"\n",
    "\n",
    "print(str[:4]+\"-\"+str[4:6]+\"-\"+str[6:8])"
   ]
  },
  {
   "cell_type": "code",
   "execution_count": 64,
   "id": "926a0ee0",
   "metadata": {},
   "outputs": [
    {
     "name": "stdout",
     "output_type": "stream",
     "text": [
      "3\n",
      "15\n"
     ]
    }
   ],
   "source": [
    "str=\"I have a dream.\"\n",
    "print(str.count('a'))\n",
    "print(len(str))"
   ]
  },
  {
   "cell_type": "code",
   "execution_count": 66,
   "id": "63b961b9",
   "metadata": {},
   "outputs": [
    {
     "name": "stdout",
     "output_type": "stream",
     "text": [
      "<class 'list'>\n",
      "['I', 'have', 'a', 'dream.']\n"
     ]
    }
   ],
   "source": [
    "list01=str.split()\n",
    "print(type(list01))\n",
    "print(list01)"
   ]
  },
  {
   "cell_type": "code",
   "execution_count": 68,
   "id": "c8b7a9e6",
   "metadata": {},
   "outputs": [
    {
     "name": "stdout",
     "output_type": "stream",
     "text": [
      "<class 'str'>\n"
     ]
    },
    {
     "data": {
      "text/plain": [
       "'2021I'"
      ]
     },
     "execution_count": 68,
     "metadata": {},
     "output_type": "execute_result"
    }
   ],
   "source": [
    "str01=\"2021-12-31\"\n",
    "print(type(str01))\n",
    "str01.split('-')[0]+list01[0]"
   ]
  },
  {
   "cell_type": "markdown",
   "id": "1cadbb7c",
   "metadata": {},
   "source": [
    "# 날짜형 변환"
   ]
  },
  {
   "cell_type": "code",
   "execution_count": 69,
   "id": "11105243",
   "metadata": {},
   "outputs": [],
   "source": [
    "from datetime import datetime, timedelta"
   ]
  },
  {
   "cell_type": "code",
   "execution_count": 79,
   "id": "1aa60e84",
   "metadata": {},
   "outputs": [],
   "source": [
    "time1=(datetime(2021,12,31,12,0,0,0))"
   ]
  },
  {
   "cell_type": "code",
   "execution_count": 81,
   "id": "9ec0b75c",
   "metadata": {},
   "outputs": [
    {
     "data": {
      "text/plain": [
       "174"
      ]
     },
     "execution_count": 81,
     "metadata": {},
     "output_type": "execute_result"
    }
   ],
   "source": [
    "time2=datetime.now()\n",
    "(time1-time2).days\n"
   ]
  },
  {
   "cell_type": "code",
   "execution_count": 84,
   "id": "d93169ed",
   "metadata": {},
   "outputs": [
    {
     "name": "stdout",
     "output_type": "stream",
     "text": [
      "2021-07-14 12:48:20.349185\n",
      "2021-07-04 14:48:20.349185\n"
     ]
    }
   ],
   "source": [
    "print(time2+timedelta(days=5,hours=-2))\n",
    "print(time2+timedelta(days=-5))"
   ]
  },
  {
   "cell_type": "code",
   "execution_count": null,
   "id": "ed4bf978",
   "metadata": {},
   "outputs": [],
   "source": []
  }
 ],
 "metadata": {
  "kernelspec": {
   "display_name": "Python 3",
   "language": "python",
   "name": "python3"
  },
  "language_info": {
   "codemirror_mode": {
    "name": "ipython",
    "version": 3
   },
   "file_extension": ".py",
   "mimetype": "text/x-python",
   "name": "python",
   "nbconvert_exporter": "python",
   "pygments_lexer": "ipython3",
   "version": "3.8.8"
  }
 },
 "nbformat": 4,
 "nbformat_minor": 5
}
