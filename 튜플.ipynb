{
 "cells": [
  {
   "cell_type": "markdown",
   "id": "d4101a5d",
   "metadata": {},
   "source": [
    "# 튜플\n",
    ": 다음을 제외하고 리스트와 비슷하다\n",
    "- (,)로 사용\n",
    "- 튜플은 값 바꾸기 X"
   ]
  },
  {
   "cell_type": "code",
   "execution_count": 6,
   "id": "d185d09f",
   "metadata": {},
   "outputs": [
    {
     "name": "stdout",
     "output_type": "stream",
     "text": [
      "()\n",
      "1\n",
      "(1, 2, 3)\n",
      "(1, 2, 3)\n",
      "('a', 'b', ('ab', 'cd'))\n",
      "1\n"
     ]
    }
   ],
   "source": [
    "var01=()\n",
    "var02=(1)\n",
    "var03=(1,2,3)\n",
    "var04=1,2,3\n",
    "var05=('a','b',('ab','cd'))\n",
    "print(var01)\n",
    "print(var02)\n",
    "print(var03)\n",
    "print(var04)\n",
    "print(var05)\n",
    "print(var03[0])"
   ]
  },
  {
   "cell_type": "code",
   "execution_count": 7,
   "id": "b584efdf",
   "metadata": {},
   "outputs": [
    {
     "name": "stdout",
     "output_type": "stream",
     "text": [
      "1\n",
      "2\n"
     ]
    }
   ],
   "source": [
    "a,b=(1,2)\n",
    "print(a)\n",
    "print(b)"
   ]
  }
 ],
 "metadata": {
  "kernelspec": {
   "display_name": "Python 3",
   "language": "python",
   "name": "python3"
  },
  "language_info": {
   "codemirror_mode": {
    "name": "ipython",
    "version": 3
   },
   "file_extension": ".py",
   "mimetype": "text/x-python",
   "name": "python",
   "nbconvert_exporter": "python",
   "pygments_lexer": "ipython3",
   "version": "3.8.8"
  }
 },
 "nbformat": 4,
 "nbformat_minor": 5
}
