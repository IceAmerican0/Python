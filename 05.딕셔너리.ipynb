{
 "cells": [
  {
   "cell_type": "markdown",
   "id": "a6bda0fc",
   "metadata": {},
   "source": [
    "# 딕셔너리\n",
    ": 순서가 정해져있지 않고 key를 통해 value 얻음"
   ]
  },
  {
   "cell_type": "code",
   "execution_count": 2,
   "id": "99d1ff7f",
   "metadata": {},
   "outputs": [
    {
     "data": {
      "text/plain": [
       "'petty'"
      ]
     },
     "execution_count": 2,
     "metadata": {},
     "output_type": "execute_result"
    }
   ],
   "source": [
    "dic={'name':'petty','phone':'010-1111-2222','birth':'1231'}\n",
    "dic['name']"
   ]
  },
  {
   "cell_type": "code",
   "execution_count": 4,
   "id": "9c81c997",
   "metadata": {},
   "outputs": [
    {
     "data": {
      "text/plain": [
       "'1231'"
      ]
     },
     "execution_count": 4,
     "metadata": {},
     "output_type": "execute_result"
    }
   ],
   "source": [
    "dic['birth']"
   ]
  },
  {
   "cell_type": "code",
   "execution_count": 6,
   "id": "a7f4cf3f",
   "metadata": {},
   "outputs": [
    {
     "name": "stdout",
     "output_type": "stream",
     "text": [
      "[1, 2, 3]\n",
      "1\n"
     ]
    }
   ],
   "source": [
    "dic1={'a':[1,2,3]}\n",
    "print(dic1['a'])\n",
    "print(dic1['a'][0])"
   ]
  },
  {
   "cell_type": "code",
   "execution_count": 8,
   "id": "11d93fd5",
   "metadata": {},
   "outputs": [
    {
     "name": "stdout",
     "output_type": "stream",
     "text": [
      "{'a': [1, 2, 3], 'b': 'bbb', 'name': 'petty'}\n"
     ]
    }
   ],
   "source": [
    "dic1['b']='bbb'\n",
    "dic1['name']='petty'\n",
    "print(dic1)"
   ]
  },
  {
   "cell_type": "code",
   "execution_count": 10,
   "id": "1813bc7c",
   "metadata": {},
   "outputs": [
    {
     "ename": "KeyError",
     "evalue": "'b'",
     "output_type": "error",
     "traceback": [
      "\u001b[0;31m---------------------------------------------------------------------------\u001b[0m",
      "\u001b[0;31mKeyError\u001b[0m                                  Traceback (most recent call last)",
      "\u001b[0;32m<ipython-input-10-f9cc67f19fec>\u001b[0m in \u001b[0;36m<module>\u001b[0;34m\u001b[0m\n\u001b[0;32m----> 1\u001b[0;31m \u001b[0;32mdel\u001b[0m \u001b[0mdic1\u001b[0m\u001b[0;34m[\u001b[0m\u001b[0;34m'b'\u001b[0m\u001b[0;34m]\u001b[0m\u001b[0;34m\u001b[0m\u001b[0;34m\u001b[0m\u001b[0m\n\u001b[0m\u001b[1;32m      2\u001b[0m \u001b[0mdic1\u001b[0m\u001b[0;34m\u001b[0m\u001b[0;34m\u001b[0m\u001b[0m\n",
      "\u001b[0;31mKeyError\u001b[0m: 'b'"
     ]
    }
   ],
   "source": [
    "del dic1['b']\n",
    "dic1"
   ]
  },
  {
   "cell_type": "code",
   "execution_count": 13,
   "id": "316a3196",
   "metadata": {},
   "outputs": [
    {
     "name": "stdout",
     "output_type": "stream",
     "text": [
      "name\n",
      "phone\n",
      "birth\n"
     ]
    }
   ],
   "source": [
    "for k in dic.keys():\n",
    "    print(k)"
   ]
  },
  {
   "cell_type": "code",
   "execution_count": 15,
   "id": "1e0939cb",
   "metadata": {},
   "outputs": [
    {
     "data": {
      "text/plain": [
       "'name'"
      ]
     },
     "execution_count": 15,
     "metadata": {},
     "output_type": "execute_result"
    }
   ],
   "source": [
    "dic_list=list(dic.keys())\n",
    "dic_list[0]"
   ]
  },
  {
   "cell_type": "code",
   "execution_count": 17,
   "id": "18687470",
   "metadata": {},
   "outputs": [
    {
     "data": {
      "text/plain": [
       "dict_values(['petty', '010-1111-2222', '1231'])"
      ]
     },
     "execution_count": 17,
     "metadata": {},
     "output_type": "execute_result"
    }
   ],
   "source": [
    "dic.values()"
   ]
  },
  {
   "cell_type": "code",
   "execution_count": 18,
   "id": "a9a1c7b2",
   "metadata": {},
   "outputs": [
    {
     "data": {
      "text/plain": [
       "'petty'"
      ]
     },
     "execution_count": 18,
     "metadata": {},
     "output_type": "execute_result"
    }
   ],
   "source": [
    "dic_value=list(dic.values())\n",
    "dic_value[0]"
   ]
  },
  {
   "cell_type": "code",
   "execution_count": 20,
   "id": "fd8f44e9",
   "metadata": {},
   "outputs": [
    {
     "data": {
      "text/plain": [
       "dict_items([('name', 'petty'), ('phone', '010-1111-2222'), ('birth', '1231')])"
      ]
     },
     "execution_count": 20,
     "metadata": {},
     "output_type": "execute_result"
    }
   ],
   "source": [
    "dic.items()"
   ]
  },
  {
   "cell_type": "code",
   "execution_count": 22,
   "id": "8c193939",
   "metadata": {},
   "outputs": [
    {
     "name": "stdout",
     "output_type": "stream",
     "text": [
      "name : petty\n",
      "phone : 010-1111-2222\n",
      "birth : 1231\n"
     ]
    }
   ],
   "source": [
    "for i in dic.items():\n",
    "    print(i[0],\":\",i[1])"
   ]
  },
  {
   "cell_type": "code",
   "execution_count": 26,
   "id": "afc514b4",
   "metadata": {},
   "outputs": [
    {
     "name": "stdout",
     "output_type": "stream",
     "text": [
      "name : petty\n"
     ]
    }
   ],
   "source": [
    "item_list = list(dic.items())\n",
    "print(item_list[0][0], \":\", item_list[0][1])"
   ]
  },
  {
   "cell_type": "code",
   "execution_count": 28,
   "id": "933622aa",
   "metadata": {},
   "outputs": [
    {
     "data": {
      "text/plain": [
       "{}"
      ]
     },
     "execution_count": 28,
     "metadata": {},
     "output_type": "execute_result"
    }
   ],
   "source": [
    "dic.clear()\n",
    "dic"
   ]
  },
  {
   "cell_type": "code",
   "execution_count": 29,
   "id": "6f3e59a4",
   "metadata": {},
   "outputs": [
    {
     "name": "stdout",
     "output_type": "stream",
     "text": [
      "True\n"
     ]
    }
   ],
   "source": [
    "dic={'name':'petty','phone':'010-1111-2222','birth':'1231'}\n",
    "print('name' in dic)"
   ]
  }
 ],
 "metadata": {
  "kernelspec": {
   "display_name": "Python 3",
   "language": "python",
   "name": "python3"
  },
  "language_info": {
   "codemirror_mode": {
    "name": "ipython",
    "version": 3
   },
   "file_extension": ".py",
   "mimetype": "text/x-python",
   "name": "python",
   "nbconvert_exporter": "python",
   "pygments_lexer": "ipython3",
   "version": "3.8.8"
  }
 },
 "nbformat": 4,
 "nbformat_minor": 5
}
