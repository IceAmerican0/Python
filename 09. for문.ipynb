{
 "cells": [
  {
   "cell_type": "code",
   "execution_count": null,
   "id": "e690a743",
   "metadata": {},
   "outputs": [],
   "source": []
  },
  {
   "cell_type": "code",
   "execution_count": 2,
   "id": "37eee5c4",
   "metadata": {},
   "outputs": [
    {
     "data": {
      "text/plain": [
       "range(1, 11)"
      ]
     },
     "execution_count": 2,
     "metadata": {},
     "output_type": "execute_result"
    }
   ],
   "source": [
    "var=range(1,11)\n",
    "var"
   ]
  },
  {
   "cell_type": "code",
   "execution_count": 4,
   "id": "18cca03a",
   "metadata": {},
   "outputs": [
    {
     "data": {
      "text/plain": [
       "[1, 2, 3, 4, 5, 6, 7, 8, 9, 10]"
      ]
     },
     "execution_count": 4,
     "metadata": {},
     "output_type": "execute_result"
    }
   ],
   "source": [
    "list(range(1,11))"
   ]
  },
  {
   "cell_type": "code",
   "execution_count": 6,
   "id": "25f1a3d1",
   "metadata": {},
   "outputs": [
    {
     "data": {
      "text/plain": [
       "[0, 2, 4, 6, 8, 10]"
      ]
     },
     "execution_count": 6,
     "metadata": {},
     "output_type": "execute_result"
    }
   ],
   "source": [
    "list(range(0,11,2))"
   ]
  },
  {
   "cell_type": "code",
   "execution_count": 8,
   "id": "0a4c4bfc",
   "metadata": {},
   "outputs": [
    {
     "data": {
      "text/plain": [
       "[10, 8, 6, 4, 2]"
      ]
     },
     "execution_count": 8,
     "metadata": {},
     "output_type": "execute_result"
    }
   ],
   "source": [
    "list(range(10,0,-2))"
   ]
  },
  {
   "cell_type": "code",
   "execution_count": 10,
   "id": "98038960",
   "metadata": {},
   "outputs": [
    {
     "data": {
      "text/plain": [
       "range(8, 10)"
      ]
     },
     "execution_count": 10,
     "metadata": {},
     "output_type": "execute_result"
    }
   ],
   "source": [
    "var[7:9]"
   ]
  },
  {
   "cell_type": "code",
   "execution_count": 12,
   "id": "8d789f3e",
   "metadata": {},
   "outputs": [
    {
     "data": {
      "text/plain": [
       "range"
      ]
     },
     "execution_count": 12,
     "metadata": {},
     "output_type": "execute_result"
    }
   ],
   "source": [
    "type(var)"
   ]
  },
  {
   "cell_type": "code",
   "execution_count": 14,
   "id": "2ce7cd64",
   "metadata": {
    "collapsed": true
   },
   "outputs": [
    {
     "name": "stdout",
     "output_type": "stream",
     "text": [
      "1\n",
      "2\n",
      "3\n",
      "4\n",
      "5\n",
      "6\n",
      "7\n",
      "8\n",
      "9\n",
      "10\n"
     ]
    }
   ],
   "source": [
    "for i in range(1,11):\n",
    "    print(i)"
   ]
  },
  {
   "cell_type": "code",
   "execution_count": 15,
   "id": "7be628b4",
   "metadata": {
    "collapsed": true
   },
   "outputs": [
    {
     "name": "stdout",
     "output_type": "stream",
     "text": [
      "0\n",
      "1\n",
      "2\n",
      "3\n",
      "4\n"
     ]
    }
   ],
   "source": [
    "for i in range(5):\n",
    "    print(i)"
   ]
  },
  {
   "cell_type": "code",
   "execution_count": 16,
   "id": "9fdfdcde",
   "metadata": {
    "collapsed": true
   },
   "outputs": [
    {
     "name": "stdout",
     "output_type": "stream",
     "text": [
      "1\n",
      "3\n",
      "5\n",
      "7\n",
      "9\n"
     ]
    }
   ],
   "source": [
    "for i in range(1,11,2):\n",
    "    print(i)"
   ]
  },
  {
   "cell_type": "code",
   "execution_count": 21,
   "id": "3f2b40ae",
   "metadata": {
    "collapsed": true
   },
   "outputs": [
    {
     "name": "stdout",
     "output_type": "stream",
     "text": [
      "==================\n",
      "1 X 1 =  1\n",
      "1 X 2 =  2\n",
      "1 X 3 =  3\n",
      "1 X 4 =  4\n",
      "1 X 5 =  5\n",
      "1 X 6 =  6\n",
      "1 X 7 =  7\n",
      "1 X 8 =  8\n",
      "1 X 9 =  9\n",
      "==================\n",
      "2 X 1 =  2\n",
      "2 X 2 =  4\n",
      "2 X 3 =  6\n",
      "2 X 4 =  8\n",
      "2 X 5 = 10\n",
      "2 X 6 = 12\n",
      "2 X 7 = 14\n",
      "2 X 8 = 16\n",
      "2 X 9 = 18\n",
      "==================\n",
      "3 X 1 =  3\n",
      "3 X 2 =  6\n",
      "3 X 3 =  9\n",
      "3 X 4 = 12\n",
      "3 X 5 = 15\n",
      "3 X 6 = 18\n",
      "3 X 7 = 21\n",
      "3 X 8 = 24\n",
      "3 X 9 = 27\n",
      "==================\n",
      "4 X 1 =  4\n",
      "4 X 2 =  8\n",
      "4 X 3 = 12\n",
      "4 X 4 = 16\n",
      "4 X 5 = 20\n",
      "4 X 6 = 24\n",
      "4 X 7 = 28\n",
      "4 X 8 = 32\n",
      "4 X 9 = 36\n",
      "==================\n",
      "5 X 1 =  5\n",
      "5 X 2 = 10\n",
      "5 X 3 = 15\n",
      "5 X 4 = 20\n",
      "5 X 5 = 25\n",
      "5 X 6 = 30\n",
      "5 X 7 = 35\n",
      "5 X 8 = 40\n",
      "5 X 9 = 45\n",
      "==================\n",
      "6 X 1 =  6\n",
      "6 X 2 = 12\n",
      "6 X 3 = 18\n",
      "6 X 4 = 24\n",
      "6 X 5 = 30\n",
      "6 X 6 = 36\n",
      "6 X 7 = 42\n",
      "6 X 8 = 48\n",
      "6 X 9 = 54\n",
      "==================\n",
      "7 X 1 =  7\n",
      "7 X 2 = 14\n",
      "7 X 3 = 21\n",
      "7 X 4 = 28\n",
      "7 X 5 = 35\n",
      "7 X 6 = 42\n",
      "7 X 7 = 49\n",
      "7 X 8 = 56\n",
      "7 X 9 = 63\n",
      "==================\n",
      "8 X 1 =  8\n",
      "8 X 2 = 16\n",
      "8 X 3 = 24\n",
      "8 X 4 = 32\n",
      "8 X 5 = 40\n",
      "8 X 6 = 48\n",
      "8 X 7 = 56\n",
      "8 X 8 = 64\n",
      "8 X 9 = 72\n",
      "==================\n",
      "9 X 1 =  9\n",
      "9 X 2 = 18\n",
      "9 X 3 = 27\n",
      "9 X 4 = 36\n",
      "9 X 5 = 45\n",
      "9 X 6 = 54\n",
      "9 X 7 = 63\n",
      "9 X 8 = 72\n",
      "9 X 9 = 81\n"
     ]
    }
   ],
   "source": [
    "for i in range(1,10):\n",
    "    print(\"==================\")\n",
    "    for j in range(1,10):\n",
    "        print(\"%d X %d = %2d\" %(i,j,i*j))"
   ]
  },
  {
   "cell_type": "code",
   "execution_count": 24,
   "id": "0e4e6b30",
   "metadata": {},
   "outputs": [
    {
     "name": "stdout",
     "output_type": "stream",
     "text": [
      "aaa bbb\n"
     ]
    }
   ],
   "source": [
    "print('aaa',end=' ')\n",
    "print('bbb')"
   ]
  },
  {
   "cell_type": "code",
   "execution_count": 30,
   "id": "ac09c682",
   "metadata": {},
   "outputs": [
    {
     "name": "stdout",
     "output_type": "stream",
     "text": [
      "\n",
      "\n",
      " 2  4  6  8 10 12 14 16 18 \n",
      "\n",
      " 3  6  9 12 15 18 21 24 27 \n",
      "\n",
      " 4  8 12 16 20 24 28 32 36 \n",
      "\n",
      " 5 10 15 20 25 30 35 40 45 \n",
      "\n",
      " 6 12 18 24 30 36 42 48 54 \n",
      "\n",
      " 7 14 21 28 35 42 49 56 63 \n",
      "\n",
      " 8 16 24 32 40 48 56 64 72 \n",
      "\n",
      " 9 18 27 36 45 54 63 72 81 "
     ]
    }
   ],
   "source": [
    "for i in range(2,10):\n",
    "    print('\\n')\n",
    "    for j in range(1,10):\n",
    "        print(\"%2d\" %(i*j),end=' ')"
   ]
  },
  {
   "cell_type": "code",
   "execution_count": 31,
   "id": "4bf225ae",
   "metadata": {},
   "outputs": [
    {
     "name": "stdout",
     "output_type": "stream",
     "text": [
      "one\n",
      "two\n",
      "three\n"
     ]
    }
   ],
   "source": [
    "test_list=['one','two','three']\n",
    "\n",
    "for i in test_list:\n",
    "    print(i)"
   ]
  },
  {
   "cell_type": "code",
   "execution_count": 32,
   "id": "7a7b0422",
   "metadata": {},
   "outputs": [
    {
     "name": "stdout",
     "output_type": "stream",
     "text": [
      "80.75\n"
     ]
    }
   ],
   "source": [
    "scores=[78,85,95,65]\n",
    "total=0\n",
    "for score in scores:\n",
    "    total+=score\n",
    "\n",
    "print(total/len(scores))"
   ]
  },
  {
   "cell_type": "markdown",
   "id": "edc67cd4",
   "metadata": {},
   "source": [
    "# for문에 tuple 사용하기"
   ]
  },
  {
   "cell_type": "code",
   "execution_count": 34,
   "id": "918e538a",
   "metadata": {},
   "outputs": [
    {
     "name": "stdout",
     "output_type": "stream",
     "text": [
      "1 : 2\n",
      "3 : 4\n",
      "5 : 6\n"
     ]
    }
   ],
   "source": [
    "var=[(1,2),(3,4),(5,6)]\n",
    "\n",
    "for first,last in var:\n",
    "    print(first,\":\",last)"
   ]
  },
  {
   "cell_type": "code",
   "execution_count": 35,
   "id": "b7433ba7",
   "metadata": {},
   "outputs": [
    {
     "name": "stdout",
     "output_type": "stream",
     "text": [
      "21\n"
     ]
    }
   ],
   "source": [
    "sum1=0\n",
    "for first,last in var:\n",
    "    sum1+=first+last\n",
    "print(sum1)"
   ]
  },
  {
   "cell_type": "code",
   "execution_count": 44,
   "id": "f4c540aa",
   "metadata": {},
   "outputs": [
    {
     "name": "stdout",
     "output_type": "stream",
     "text": [
      "1의 학생은 합격입니다.\n",
      "2의 학생은 불합격입니다.\n",
      "3의 학생은 합격입니다.\n",
      "4의 학생은 불합격입니다.\n",
      "5의 학생은 합격입니다.\n"
     ]
    }
   ],
   "source": [
    "scores=[90,25,67,45,80]\n",
    "\n",
    "for number in range(len(scores)):\n",
    "    if scores[number]>60:\n",
    "        print(\"%d의 학생은 합격입니다.\"%(number+1)) \n",
    "    else:\n",
    "        print(\"%d의 학생은 불합격입니다.\"%(number+1))"
   ]
  },
  {
   "cell_type": "code",
   "execution_count": 55,
   "id": "a1814a78",
   "metadata": {},
   "outputs": [
    {
     "name": "stdout",
     "output_type": "stream",
     "text": [
      "학급의 평균 점수는 61.40 점입니다.\n",
      "학급의 총점은 307 점입니다.\n",
      "\n",
      "1의 학생은 점수가 90이므로 합격입니다.\n",
      "2의 학생은 점수가 25이어서 불합격입니다.\n",
      "3의 학생은 점수가 67이므로 합격입니다.\n",
      "4의 학생은 점수가 45이어서 불합격입니다.\n",
      "5의 학생은 점수가 80이므로 합격입니다.\n"
     ]
    }
   ],
   "source": [
    "number=1\n",
    "avg=0.0\n",
    "total=0\n",
    "\n",
    "import numpy as np\n",
    "\n",
    "print(\"학급의 평균 점수는 %0.2f 점입니다.\"%np.mean(scores))\n",
    "print(\"학급의 총점은 %d 점입니다.\\n\"%np.sum(scores))\n",
    "\n",
    "for score in scores:\n",
    "    if score>60:\n",
    "        print(\"%d의 학생은 점수가 %d이므로 합격입니다.\"%(number,score)) \n",
    "    else:\n",
    "        print(\"%d의 학생은 점수가 %d이어서 불합격입니다.\"%(number,score))\n",
    "    number+=1"
   ]
  },
  {
   "cell_type": "code",
   "execution_count": 57,
   "id": "0dc5b5fb",
   "metadata": {},
   "outputs": [
    {
     "name": "stdout",
     "output_type": "stream",
     "text": [
      "[5, 10, 15, 20]\n"
     ]
    }
   ],
   "source": [
    "var01=[1,2,3,4]\n",
    "var02=[]\n",
    "\n",
    "for i in var01:\n",
    "    var02.append(i*5)\n",
    "    \n",
    "print(var02)"
   ]
  },
  {
   "cell_type": "code",
   "execution_count": 63,
   "id": "875affac",
   "metadata": {},
   "outputs": [
    {
     "data": {
      "text/plain": [
       "[10, 20]"
      ]
     },
     "execution_count": 63,
     "metadata": {},
     "output_type": "execute_result"
    }
   ],
   "source": [
    "var01=[1,2,3,4]\n",
    "var02=[]\n",
    "\n",
    "var02=[i*5 for i in var01 if i%2==0]\n",
    "var02"
   ]
  },
  {
   "cell_type": "code",
   "execution_count": 68,
   "id": "61ef447b",
   "metadata": {},
   "outputs": [
    {
     "name": "stdout",
     "output_type": "stream",
     "text": [
      "[2, 4, 6, 8, 10, 12, 14, 16, 18, 3, 6, 9, 12, 15, 18, 21, 24, 27, 4, 8, 12, 16, 20, 24, 28, 32, 36, 5, 10, 15, 20, 25, 30, 35, 40, 45, 6, 12, 18, 24, 30, 36, 42, 48, 54, 7, 14, 21, 28, 35, 42, 49, 56, 63, 8, 16, 24, 32, 40, 48, 56, 64, 72, 9, 18, 27, 36, 45, 54, 63, 72, 81]\n"
     ]
    }
   ],
   "source": [
    "var01=[i*j for i in range(2,10) for j in range(1,10)]\n",
    "print(var01)"
   ]
  },
  {
   "cell_type": "code",
   "execution_count": 69,
   "id": "54a89e29",
   "metadata": {},
   "outputs": [
    {
     "name": "stdout",
     "output_type": "stream",
     "text": [
      "합격한 학생들의 평균 점수는 79.00입니다.\n"
     ]
    }
   ],
   "source": [
    "scores=[90,25,67,45,80]\n",
    "passList=[i for i in scores if i>=60]\n",
    "print(\"합격한 학생들의 평균 점수는 %.2f입니다.\"%np.mean(passList))"
   ]
  },
  {
   "cell_type": "code",
   "execution_count": null,
   "id": "200420df",
   "metadata": {},
   "outputs": [],
   "source": []
  },
  {
   "cell_type": "code",
   "execution_count": null,
   "id": "2004e698",
   "metadata": {},
   "outputs": [],
   "source": []
  },
  {
   "cell_type": "code",
   "execution_count": null,
   "id": "adc56a32",
   "metadata": {},
   "outputs": [],
   "source": []
  },
  {
   "cell_type": "code",
   "execution_count": null,
   "id": "96dc5012",
   "metadata": {},
   "outputs": [],
   "source": []
  }
 ],
 "metadata": {
  "kernelspec": {
   "display_name": "Python 3",
   "language": "python",
   "name": "python3"
  },
  "language_info": {
   "codemirror_mode": {
    "name": "ipython",
    "version": 3
   },
   "file_extension": ".py",
   "mimetype": "text/x-python",
   "name": "python",
   "nbconvert_exporter": "python",
   "pygments_lexer": "ipython3",
   "version": "3.8.8"
  }
 },
 "nbformat": 4,
 "nbformat_minor": 5
}
