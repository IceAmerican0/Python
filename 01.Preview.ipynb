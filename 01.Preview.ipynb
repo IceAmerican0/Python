{
 "cells": [
  {
   "cell_type": "markdown",
   "id": "6bfb24b4",
   "metadata": {},
   "source": [
    "# Python 기초"
   ]
  },
  {
   "cell_type": "markdown",
   "id": "3aaeca8c",
   "metadata": {},
   "source": [
    "## 사칙연산"
   ]
  },
  {
   "cell_type": "code",
   "execution_count": 3,
   "id": "16d6c5a7",
   "metadata": {},
   "outputs": [
    {
     "data": {
      "text/plain": [
       "3"
      ]
     },
     "execution_count": 3,
     "metadata": {},
     "output_type": "execute_result"
    }
   ],
   "source": [
    "1+2"
   ]
  },
  {
   "cell_type": "code",
   "execution_count": 5,
   "id": "d5876e19",
   "metadata": {},
   "outputs": [
    {
     "data": {
      "text/plain": [
       "6"
      ]
     },
     "execution_count": 5,
     "metadata": {},
     "output_type": "execute_result"
    }
   ],
   "source": [
    "2*3"
   ]
  },
  {
   "cell_type": "code",
   "execution_count": 7,
   "id": "ab121350",
   "metadata": {},
   "outputs": [
    {
     "data": {
      "text/plain": [
       "1.5"
      ]
     },
     "execution_count": 7,
     "metadata": {},
     "output_type": "execute_result"
    }
   ],
   "source": [
    "3/2"
   ]
  },
  {
   "cell_type": "code",
   "execution_count": 9,
   "id": "fa47bf87",
   "metadata": {},
   "outputs": [
    {
     "data": {
      "text/plain": [
       "4"
      ]
     },
     "execution_count": 9,
     "metadata": {},
     "output_type": "execute_result"
    }
   ],
   "source": [
    "var1=1\n",
    "var2=3\n",
    "var1+var2"
   ]
  },
  {
   "cell_type": "code",
   "execution_count": 11,
   "id": "81b98f1c",
   "metadata": {},
   "outputs": [
    {
     "data": {
      "text/plain": [
       "'python'"
      ]
     },
     "execution_count": 11,
     "metadata": {},
     "output_type": "execute_result"
    }
   ],
   "source": [
    "var1='python'\n",
    "var1"
   ]
  },
  {
   "cell_type": "markdown",
   "id": "5a6530af",
   "metadata": {},
   "source": [
    "# 조건문"
   ]
  },
  {
   "cell_type": "code",
   "execution_count": 13,
   "id": "1ae2c060",
   "metadata": {},
   "outputs": [
    {
     "name": "stdout",
     "output_type": "stream",
     "text": [
      "var1 is greater than 1\n"
     ]
    }
   ],
   "source": [
    "var1=3\n",
    "if var1>1:\n",
    "    print('var1 is greater than 1')"
   ]
  },
  {
   "cell_type": "code",
   "execution_count": 15,
   "id": "78ec55d0",
   "metadata": {},
   "outputs": [
    {
     "name": "stdout",
     "output_type": "stream",
     "text": [
      "var_1 is greater tahn var_2\n"
     ]
    }
   ],
   "source": [
    "var_1=4\n",
    "var_2=3\n",
    "\n",
    "if var_1>var_2:\n",
    "    print('var_1 is greater tahn var_2')"
   ]
  },
  {
   "cell_type": "markdown",
   "id": "f887b8e0",
   "metadata": {},
   "source": [
    "---"
   ]
  },
  {
   "cell_type": "markdown",
   "id": "e61b180e",
   "metadata": {},
   "source": [
    "# 반복문"
   ]
  },
  {
   "cell_type": "code",
   "execution_count": 18,
   "id": "d33a0e48",
   "metadata": {},
   "outputs": [
    {
     "name": "stdout",
     "output_type": "stream",
     "text": [
      "10\n",
      "20\n",
      "30\n"
     ]
    }
   ],
   "source": [
    "for i in [10,20,30]:\n",
    "    print(i)"
   ]
  },
  {
   "cell_type": "code",
   "execution_count": 20,
   "id": "5e21f815",
   "metadata": {},
   "outputs": [
    {
     "name": "stdout",
     "output_type": "stream",
     "text": [
      "10\n",
      "20\n",
      "30\n"
     ]
    }
   ],
   "source": [
    "i=0\n",
    "while i<30:\n",
    "    i+=10\n",
    "    print(i)"
   ]
  },
  {
   "cell_type": "markdown",
   "id": "06e9b089",
   "metadata": {},
   "source": [
    "---"
   ]
  },
  {
   "cell_type": "markdown",
   "id": "33d95991",
   "metadata": {},
   "source": [
    "# 함수"
   ]
  },
  {
   "cell_type": "code",
   "execution_count": 21,
   "id": "1ac57788",
   "metadata": {},
   "outputs": [],
   "source": [
    "def sumF(var01,var02):\n",
    "    return var01+var02"
   ]
  },
  {
   "cell_type": "code",
   "execution_count": 23,
   "id": "7dc555e2",
   "metadata": {},
   "outputs": [
    {
     "data": {
      "text/plain": [
       "30"
      ]
     },
     "execution_count": 23,
     "metadata": {},
     "output_type": "execute_result"
    }
   ],
   "source": [
    "sumF(10,20)"
   ]
  },
  {
   "cell_type": "code",
   "execution_count": 26,
   "id": "287d7e61",
   "metadata": {},
   "outputs": [
    {
     "data": {
      "text/plain": [
       "'ab'"
      ]
     },
     "execution_count": 26,
     "metadata": {},
     "output_type": "execute_result"
    }
   ],
   "source": [
    "sumF('a','b')"
   ]
  },
  {
   "cell_type": "code",
   "execution_count": null,
   "id": "81c7e2b0",
   "metadata": {},
   "outputs": [],
   "source": []
  },
  {
   "cell_type": "code",
   "execution_count": null,
   "id": "39db19a1",
   "metadata": {},
   "outputs": [],
   "source": []
  },
  {
   "cell_type": "code",
   "execution_count": 27,
   "id": "5099c1fa",
   "metadata": {},
   "outputs": [
    {
     "data": {
      "text/plain": [
       "110.2"
      ]
     },
     "execution_count": 27,
     "metadata": {},
     "output_type": "execute_result"
    }
   ],
   "source": [
    "sumF(10.2,100)"
   ]
  }
 ],
 "metadata": {
  "kernelspec": {
   "display_name": "Python 3",
   "language": "python",
   "name": "python3"
  },
  "language_info": {
   "codemirror_mode": {
    "name": "ipython",
    "version": 3
   },
   "file_extension": ".py",
   "mimetype": "text/x-python",
   "name": "python",
   "nbconvert_exporter": "python",
   "pygments_lexer": "ipython3",
   "version": "3.8.8"
  }
 },
 "nbformat": 4,
 "nbformat_minor": 5
}
