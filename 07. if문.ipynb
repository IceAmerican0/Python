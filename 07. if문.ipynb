{
 "cells": [
  {
   "cell_type": "code",
   "execution_count": 1,
   "id": "ec765111",
   "metadata": {},
   "outputs": [],
   "source": [
    "from random import randint"
   ]
  },
  {
   "cell_type": "code",
   "execution_count": 2,
   "id": "638ef8e3",
   "metadata": {},
   "outputs": [
    {
     "name": "stdout",
     "output_type": "stream",
     "text": [
      "58 is greater than 50\n",
      "---end---\n"
     ]
    }
   ],
   "source": [
    "x=randint(1,100)\n",
    "\n",
    "if x>50:\n",
    "    print(str(x),\"is greater than 50\")\n",
    "    \n",
    "print(\"---end---\")"
   ]
  },
  {
   "cell_type": "code",
   "execution_count": 3,
   "id": "9e9c5a12",
   "metadata": {},
   "outputs": [
    {
     "name": "stdout",
     "output_type": "stream",
     "text": [
      "75 is greater than 50\n",
      "---end---\n"
     ]
    }
   ],
   "source": [
    "x=randint(1,100)\n",
    "if x>50:\n",
    "    print(str(x),\"is greater than 50\")\n",
    "else:\n",
    "    print(str(x),\"is less or equal to 50\")\n",
    "    \n",
    "print(\"---end---\")"
   ]
  },
  {
   "cell_type": "code",
   "execution_count": 4,
   "id": "f9b47921",
   "metadata": {},
   "outputs": [
    {
     "name": "stdout",
     "output_type": "stream",
     "text": [
      "93 is greater than 50\n",
      "---end---\n"
     ]
    }
   ],
   "source": [
    "x=randint(1,100)\n",
    "\n",
    "if x>50:\n",
    "    print(str(x),\"is greater than 50\")\n",
    "elif x==50:\n",
    "    print(str(x),\"is equal to 50\")\n",
    "else:\n",
    "    print(str(x),\"is less than 50\")\n",
    "\n",
    "print(\"---end---\")"
   ]
  },
  {
   "cell_type": "code",
   "execution_count": 5,
   "id": "e56d84cf",
   "metadata": {},
   "outputs": [
    {
     "name": "stdout",
     "output_type": "stream",
     "text": [
      "숫자를 입력하세요12\n",
      "12은(는) 짝수입니다.\n"
     ]
    }
   ],
   "source": [
    "x=int(input(\"숫자를 입력하세요\"))\n",
    "\n",
    "if x%2==0:\n",
    "    print(str(x)+\"은(는) 짝수입니다.\")\n",
    "else:\n",
    "    print(str(x)+\"은(는) 홀수입니다.\")"
   ]
  },
  {
   "cell_type": "code",
   "execution_count": 8,
   "id": "7578ea9c",
   "metadata": {},
   "outputs": [
    {
     "name": "stdout",
     "output_type": "stream",
     "text": [
      "점수를 입력하세요13\n",
      "점수는 13점이고 A학점입니다.\n"
     ]
    }
   ],
   "source": [
    "x=int(input(\"점수를 입력하세요\"))\n",
    "\n",
    "if x>=90&x<=100:\n",
    "    print(\"점수는\",str(x)+\"점이고 A학점입니다.\")\n",
    "elif x>=80:\n",
    "    print(\"점수는\",str(x)+\"점이고 B학점입니다.\")\n",
    "elif x>=70:\n",
    "    print(\"점수는\",str(x)+\"점이고 C학점입니다.\")\n",
    "elif x>=60:\n",
    "    print(\"점수는\",str(x)+\"점이고 D학점입니다.\")\n",
    "elif x>=0&x<59:\n",
    "    print(\"점수는\",str(x)+\"점이고 F학점입니다.\")\n",
    "else:\n",
    "    print(\"잘못된 점수입니다.\")"
   ]
  },
  {
   "cell_type": "code",
   "execution_count": 12,
   "id": "04b00744",
   "metadata": {},
   "outputs": [
    {
     "name": "stdout",
     "output_type": "stream",
     "text": [
      "신용카드로 택시\n"
     ]
    }
   ],
   "source": [
    "pocket=['paper','smartphone']\n",
    "card=1\n",
    "\n",
    "type(pocket)\n",
    "\n",
    "if 'money' in pocket:\n",
    "    print(\"현금으로 택시 타기\")\n",
    "elif card:\n",
    "    print(\"신용카드로 택시\")\n",
    "else:\n",
    "    print(\"걸어가기\")"
   ]
  },
  {
   "cell_type": "code",
   "execution_count": null,
   "id": "a1aa2e6e",
   "metadata": {},
   "outputs": [],
   "source": []
  }
 ],
 "metadata": {
  "kernelspec": {
   "display_name": "Python 3",
   "language": "python",
   "name": "python3"
  },
  "language_info": {
   "codemirror_mode": {
    "name": "ipython",
    "version": 3
   },
   "file_extension": ".py",
   "mimetype": "text/x-python",
   "name": "python",
   "nbconvert_exporter": "python",
   "pygments_lexer": "ipython3",
   "version": "3.8.8"
  }
 },
 "nbformat": 4,
 "nbformat_minor": 5
}
