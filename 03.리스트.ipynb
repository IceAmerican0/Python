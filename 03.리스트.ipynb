{
 "cells": [
  {
   "cell_type": "markdown",
   "id": "84bdc181",
   "metadata": {},
   "source": [
    "# 리스트 자료형"
   ]
  },
  {
   "cell_type": "code",
   "execution_count": 1,
   "id": "08d564b2",
   "metadata": {},
   "outputs": [],
   "source": [
    "var01=[]\n",
    "var02=[1,2,3]\n",
    "var03=['I',\"have\",'a','dream']\n",
    "var04=[1,2,'dream','true']\n",
    "var05=[1,2,['Dream','true']]"
   ]
  },
  {
   "cell_type": "markdown",
   "id": "8806159b",
   "metadata": {},
   "source": [
    "# 리스트의 indexing과 slicing\n"
   ]
  },
  {
   "cell_type": "code",
   "execution_count": 5,
   "id": "49f0c4e2",
   "metadata": {},
   "outputs": [
    {
     "name": "stdout",
     "output_type": "stream",
     "text": [
      "[]\n",
      "[1, 2, 3]\n",
      "['I', 'have', 'a', 'dream']\n",
      "[1, 2, 'dream', 'true']\n",
      "[1, 2, ['Dream', 'true']]\n",
      "['Dream', 'true']\n",
      "Dream\n"
     ]
    }
   ],
   "source": [
    "print(var01)\n",
    "print(var02)\n",
    "print(var03)\n",
    "print(var04)\n",
    "print(var05)\n",
    "\n",
    "print(var05[2])\n",
    "print(var05[2][0])"
   ]
  },
  {
   "cell_type": "code",
   "execution_count": 7,
   "id": "e8eed596",
   "metadata": {},
   "outputs": [
    {
     "name": "stdout",
     "output_type": "stream",
     "text": [
      "Dream\n"
     ]
    }
   ],
   "source": [
    "var=[1,2,['a','b',['Dream','True']]]\n",
    "\n",
    "print(var[2][2][0])"
   ]
  },
  {
   "cell_type": "code",
   "execution_count": 12,
   "id": "0c58a7b8",
   "metadata": {},
   "outputs": [
    {
     "name": "stdout",
     "output_type": "stream",
     "text": [
      "10\n",
      "20\n",
      "30\n"
     ]
    }
   ],
   "source": [
    "var01=[1,2,3]\n",
    "for i in var01:\n",
    "    print(i*10)"
   ]
  },
  {
   "cell_type": "code",
   "execution_count": 14,
   "id": "2c3bf04c",
   "metadata": {},
   "outputs": [
    {
     "name": "stdout",
     "output_type": "stream",
     "text": [
      "3hi\n"
     ]
    }
   ],
   "source": [
    "var=[1,2,3]\n",
    "print(str(var[2])+\"hi\")"
   ]
  },
  {
   "cell_type": "code",
   "execution_count": 16,
   "id": "38df6896",
   "metadata": {},
   "outputs": [
    {
     "data": {
      "text/plain": [
       "int"
      ]
     },
     "execution_count": 16,
     "metadata": {},
     "output_type": "execute_result"
    }
   ],
   "source": [
    "temp=\"123\"\n",
    "type(temp)\n",
    "temp1=int(temp)\n",
    "type(temp1)"
   ]
  },
  {
   "cell_type": "markdown",
   "id": "efee3bc5",
   "metadata": {},
   "source": [
    "# 리스트의 수정과 삭제"
   ]
  },
  {
   "cell_type": "code",
   "execution_count": 18,
   "id": "fbfc35e4",
   "metadata": {},
   "outputs": [
    {
     "data": {
      "text/plain": [
       "[1, 2, 4]"
      ]
     },
     "execution_count": 18,
     "metadata": {},
     "output_type": "execute_result"
    }
   ],
   "source": [
    "var=[1,2,3]\n",
    "var[2]=4\n",
    "var"
   ]
  },
  {
   "cell_type": "code",
   "execution_count": 30,
   "id": "8a803f0e",
   "metadata": {},
   "outputs": [
    {
     "data": {
      "text/plain": [
       "[1, 3, 1]"
      ]
     },
     "execution_count": 30,
     "metadata": {},
     "output_type": "execute_result"
    }
   ],
   "source": [
    "var=[1,2,3]\n",
    "var[1:3]=[]\n",
    "var.append(3)\n",
    "var.append(1)\n",
    "var"
   ]
  },
  {
   "cell_type": "code",
   "execution_count": 34,
   "id": "66fb21e7",
   "metadata": {},
   "outputs": [
    {
     "name": "stdout",
     "output_type": "stream",
     "text": [
      "[1, 1, 3]\n",
      "[3, 1, 1]\n",
      "3\n"
     ]
    }
   ],
   "source": [
    "var.sort()\n",
    "print(var)\n",
    "\n",
    "var.reverse()\n",
    "print(var)\n",
    "\n",
    "print(max(var))"
   ]
  },
  {
   "cell_type": "code",
   "execution_count": 37,
   "id": "10db7bf9",
   "metadata": {},
   "outputs": [
    {
     "name": "stdout",
     "output_type": "stream",
     "text": [
      "['국', '대', '민', '한']\n",
      "['한', '민', '대', '국']\n"
     ]
    }
   ],
   "source": [
    "var=['대','한','민','국']\n",
    "var.sort()\n",
    "print(var)\n",
    "var.reverse()\n",
    "print(var)"
   ]
  },
  {
   "cell_type": "code",
   "execution_count": 43,
   "id": "9e7fe24b",
   "metadata": {},
   "outputs": [
    {
     "data": {
      "text/plain": [
       "[4, 1, 3]"
      ]
     },
     "execution_count": 43,
     "metadata": {},
     "output_type": "execute_result"
    }
   ],
   "source": [
    "var=[1,2,3]\n",
    "var.index(1)\n",
    "var.insert(0,4)\n",
    "var.remove(2)\n",
    "var"
   ]
  }
 ],
 "metadata": {
  "kernelspec": {
   "display_name": "Python 3",
   "language": "python",
   "name": "python3"
  },
  "language_info": {
   "codemirror_mode": {
    "name": "ipython",
    "version": 3
   },
   "file_extension": ".py",
   "mimetype": "text/x-python",
   "name": "python",
   "nbconvert_exporter": "python",
   "pygments_lexer": "ipython3",
   "version": "3.8.8"
  }
 },
 "nbformat": 4,
 "nbformat_minor": 5
}
